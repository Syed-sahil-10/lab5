{
 "cells": [
  {
   "cell_type": "code",
   "execution_count": 7,
   "id": "df548308-1f37-4301-97df-307a17e26cb8",
   "metadata": {},
   "outputs": [
    {
     "name": "stdout",
     "output_type": "stream",
     "text": [
      "motul enine oil 5w- : (750, 15)\n",
      "motul gear oil : (250, 50)\n",
      "silkolne engine oil 10w-30 : (1000, 25)\n",
      "silkolene chain cleaner : (200, 35)\n",
      "silkolene chain lube : (200, 35)\n",
      "motul engine oil 5w-40 : (600, 40)\n"
     ]
    },
    {
     "name": "stdin",
     "output_type": "stream",
     "text": [
      "enter the product motul engine oil\n"
     ]
    },
    {
     "name": "stdout",
     "output_type": "stream",
     "text": [
      "product found\n"
     ]
    }
   ],
   "source": [
    "#dictionary for storage ,nested,list inside dictionary,looping through this,use default value,create storage and dynamically update or append,\n",
    "#able to see last 4 append,use sequence unpacking\n",
    "my_shop={\n",
    "    \"motul enine oil 5w-\":(750,15),\n",
    "    \"motul gear oil\":(250,50),\n",
    "    \"silkolne engine oil 10w-30\":(1000,25),\n",
    "    \"silkolene chain cleaner\":(200,35),\n",
    "    \"silkolene chain lube\":(200,35),\n",
    "    \"motul engine oil 5w-40\":(600,40)\n",
    "}\n",
    "\n",
    "#looping through dictionaries and with condition checking whether product is available !\n",
    "for key in my_shop:\n",
    "    print(key,\":\",my_shop[key])\n",
    "\n",
    "x=input(\"enter the product\")\n",
    "product_found=False\n",
    "if x in my_shop:\n",
    "    product_found=True\n",
    "\n",
    "print(\"product found\")\n"
   ]
  },
  {
   "cell_type": "code",
   "execution_count": null,
   "id": "5ac64627-4366-4868-9a0e-c33396d2b6a3",
   "metadata": {},
   "outputs": [],
   "source": []
  }
 ],
 "metadata": {
  "kernelspec": {
   "display_name": "Python 3 (ipykernel)",
   "language": "python",
   "name": "python3"
  },
  "language_info": {
   "codemirror_mode": {
    "name": "ipython",
    "version": 3
   },
   "file_extension": ".py",
   "mimetype": "text/x-python",
   "name": "python",
   "nbconvert_exporter": "python",
   "pygments_lexer": "ipython3",
   "version": "3.12.4"
  }
 },
 "nbformat": 4,
 "nbformat_minor": 5
}
